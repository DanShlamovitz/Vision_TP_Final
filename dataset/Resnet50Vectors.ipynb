{
 "cells": [
  {
   "cell_type": "code",
   "execution_count": 1,
   "metadata": {},
   "outputs": [],
   "source": [
    "import torch\n",
    "from torchvision import models, transforms\n",
    "from PIL import Image\n",
    "import numpy as np\n",
    "import pandas as pd\n",
    "import os\n",
    "from tqdm import tqdm\n",
    "\n",
    "def procesar_imagenes_y_guardar_csv(lista_paths, archivo_salida):\n",
    "    # Cargar el modelo ResNet50 preentrenado de PyTorch\n",
    "    modelo_resnet = models.resnet50(pretrained=True)\n",
    "    modelo_resnet.eval()  # Poner el modelo en modo de evaluación\n",
    "\n",
    "    # Definir las transformaciones necesarias para las imágenes\n",
    "    transform = transforms.Compose([\n",
    "        transforms.Resize(256),  # Redimensionar la imagen\n",
    "        transforms.CenterCrop(224),  # Recortar al centro para 224x224\n",
    "        transforms.ToTensor(),  # Convertir la imagen a tensor\n",
    "        transforms.Normalize(mean=[0.485, 0.456, 0.406], std=[0.229, 0.224, 0.225]),  # Normalizar\n",
    "    ])\n",
    "\n",
    "    # Lista para almacenar los vectores de características\n",
    "    vectores = []\n",
    "\n",
    "    # Ignorar el primer elemento de la lista de rutas\n",
    "    lista_paths = lista_paths[1:]  # Esto omite el primer elemento\n",
    "\n",
    "    for path in tqdm(lista_paths):\n",
    "        path = \"../imgs/\" + path\n",
    "        # Verificar que el archivo existe\n",
    "        if not os.path.exists(path):\n",
    "            print(f\"El archivo {path} no existe.\")\n",
    "            continue\n",
    "\n",
    "        # Cargar la imagen y aplicar las transformaciones\n",
    "        img = Image.open(path).convert('RGB')  # Asegurarse de que esté en RGB\n",
    "        img_tensor = transform(img).unsqueeze(0)  # Convertir a tensor y agregar dimensión de batch\n",
    "\n",
    "        # Obtener el vector de características de 1000 dimensiones\n",
    "        with torch.no_grad():  # Desactivar el cálculo de gradientes (no necesario para inferencia)\n",
    "            output = modelo_resnet(img_tensor)  # Realizar la predicción\n",
    "            vector = output.flatten().numpy()  # Aplanar el vector y convertirlo a numpy\n",
    "            vectores.append(vector)\n",
    "\n",
    "    # Guardar los vectores en un archivo CSV\n",
    "    df = pd.DataFrame(vectores)\n",
    "    df.to_csv(archivo_salida, index=False, header=False)\n",
    "    print(f\"Los vectores se han guardado en {archivo_salida}\")\n",
    "\n",
    "# Ejemplo de uso:\n",
    "test = pd.read_csv(\"../X_test_paths.csv\").iloc[:, 0]  # Leer la primera columna\n",
    "train = pd.read_csv(\"../X_train_paths.csv\").iloc[:, 0]  # Leer la primera columna\n",
    "val = pd.read_csv(\"../X_val_paths.csv\").iloc[:, 0]  # Leer la primera columna\n",
    "\n",
    "out_test = \"../X_test_resnet.csv\"\n",
    "out_train = \"../X_train_resnet.csv\"\n",
    "out_val = \"../X_val_resnet.csv\"\n",
    "\n",
    "\n"
   ]
  },
  {
   "cell_type": "code",
   "execution_count": 2,
   "metadata": {},
   "outputs": [
    {
     "name": "stderr",
     "output_type": "stream",
     "text": [
      "/Users/dan/miniconda3/envs/ML/lib/python3.12/site-packages/torchvision/models/_utils.py:208: UserWarning: The parameter 'pretrained' is deprecated since 0.13 and may be removed in the future, please use 'weights' instead.\n",
      "  warnings.warn(\n",
      "/Users/dan/miniconda3/envs/ML/lib/python3.12/site-packages/torchvision/models/_utils.py:223: UserWarning: Arguments other than a weight enum or `None` for 'weights' are deprecated since 0.13 and may be removed in the future. The current behavior is equivalent to passing `weights=ResNet50_Weights.IMAGENET1K_V1`. You can also use `weights=ResNet50_Weights.DEFAULT` to get the most up-to-date weights.\n",
      "  warnings.warn(msg)\n",
      "100%|██████████| 7999/7999 [05:19<00:00, 25.01it/s]\n"
     ]
    },
    {
     "name": "stdout",
     "output_type": "stream",
     "text": [
      "Los vectores se han guardado en ../X_test_resnet.csv\n"
     ]
    }
   ],
   "source": [
    "procesar_imagenes_y_guardar_csv(test, out_test)\n"
   ]
  },
  {
   "cell_type": "code",
   "execution_count": 3,
   "metadata": {},
   "outputs": [
    {
     "name": "stderr",
     "output_type": "stream",
     "text": [
      "100%|██████████| 64799/64799 [50:50<00:00, 21.24it/s]  \n"
     ]
    },
    {
     "name": "stdout",
     "output_type": "stream",
     "text": [
      "Los vectores se han guardado en ../X_train_resnet.csv\n"
     ]
    }
   ],
   "source": [
    "procesar_imagenes_y_guardar_csv(train, out_train)\n"
   ]
  },
  {
   "cell_type": "code",
   "execution_count": 4,
   "metadata": {},
   "outputs": [
    {
     "name": "stderr",
     "output_type": "stream",
     "text": [
      "100%|██████████| 7199/7199 [05:27<00:00, 21.99it/s]\n"
     ]
    },
    {
     "name": "stdout",
     "output_type": "stream",
     "text": [
      "Los vectores se han guardado en ../X_val_resnet.csv\n"
     ]
    }
   ],
   "source": [
    "procesar_imagenes_y_guardar_csv(val, out_val)\n"
   ]
  }
 ],
 "metadata": {
  "kernelspec": {
   "display_name": "ML",
   "language": "python",
   "name": "python3"
  },
  "language_info": {
   "codemirror_mode": {
    "name": "ipython",
    "version": 3
   },
   "file_extension": ".py",
   "mimetype": "text/x-python",
   "name": "python",
   "nbconvert_exporter": "python",
   "pygments_lexer": "ipython3",
   "version": "3.12.2"
  }
 },
 "nbformat": 4,
 "nbformat_minor": 2
}
