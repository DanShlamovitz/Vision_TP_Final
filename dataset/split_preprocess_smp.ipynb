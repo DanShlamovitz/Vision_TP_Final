{
 "cells": [
  {
   "cell_type": "code",
   "execution_count": 1,
   "metadata": {},
   "outputs": [],
   "source": [
    "import pandas as pd\n",
    "from sklearn.model_selection import train_test_split"
   ]
  },
  {
   "cell_type": "code",
   "execution_count": 2,
   "metadata": {},
   "outputs": [],
   "source": [
    "#set random seed for reproducibility\n",
    "RSEED = 42"
   ]
  },
  {
   "cell_type": "code",
   "execution_count": 3,
   "metadata": {},
   "outputs": [
    {
     "name": "stderr",
     "output_type": "stream",
     "text": [
      "/var/folders/t8/cq9vwh6d7dxfyjzswff4ys5m0000gn/T/ipykernel_85886/2419843127.py:1: DtypeWarning: Columns (4) have mixed types. Specify dtype option on import or set low_memory=False.\n",
      "  df = pd.read_csv(\"../metadata/all_metadata.csv\")\n"
     ]
    }
   ],
   "source": [
    "df = pd.read_csv(\"../metadata/all_metadata.csv\")\n",
    "#split the data without suffeling\n",
    "\n",
    "train_df, test_df = train_test_split(df, test_size=0.1, random_state=RSEED, shuffle=True)\n",
    "train_df, val_df = train_test_split(train_df, test_size=0.1, random_state=RSEED, shuffle=True)"
   ]
  },
  {
   "cell_type": "code",
   "execution_count": 4,
   "metadata": {},
   "outputs": [
    {
     "name": "stdout",
     "output_type": "stream",
     "text": [
      "Train: 40500\n",
      "Validation: 4500\n",
      "Test: 5000\n"
     ]
    }
   ],
   "source": [
    "print (f\"Train: {train_df.shape[0]}\")\n",
    "print (f\"Validation: {val_df.shape[0]}\")\n",
    "print (f\"Test: {test_df.shape[0]}\")"
   ]
  },
  {
   "cell_type": "code",
   "execution_count": 5,
   "metadata": {},
   "outputs": [
    {
     "name": "stdout",
     "output_type": "stream",
     "text": [
      "Train: 40500\n",
      "Validation: 4500\n",
      "Test: 5000\n",
      "------------------------------------------\n",
      "       photo_count  ispro  Animal  Electronics  Entertainment  Family  \\\n",
      "32621        279.0    0.0     0.0          0.0            0.0     0.0   \n",
      "17976       1213.0    1.0     0.0          0.0            1.0     0.0   \n",
      "7760        1592.0    0.0     0.0          0.0            0.0     0.0   \n",
      "11766       1013.0    0.0     0.0          0.0            0.0     0.0   \n",
      "3690        1776.0    1.0     0.0          0.0            0.0     0.0   \n",
      "\n",
      "       Fashion  Food  Holiday&Celebrations  Social&People  ...  month_10  \\\n",
      "32621      0.0   0.0                   0.0            0.0  ...       0.0   \n",
      "17976      0.0   0.0                   0.0            0.0  ...       0.0   \n",
      "7760       1.0   0.0                   0.0            0.0  ...       0.0   \n",
      "11766      1.0   0.0                   0.0            0.0  ...       0.0   \n",
      "3690       0.0   0.0                   0.0            0.0  ...       0.0   \n",
      "\n",
      "       month_11  month_12  weekday_0  weekday_1  weekday_2  weekday_3  \\\n",
      "32621       0.0       0.0        0.0        0.0        0.0        0.0   \n",
      "17976       0.0       0.0        0.0        0.0        0.0        0.0   \n",
      "7760        0.0       0.0        1.0        0.0        0.0        0.0   \n",
      "11766       0.0       0.0        0.0        0.0        0.0        0.0   \n",
      "3690        0.0       0.0        0.0        0.0        0.0        0.0   \n",
      "\n",
      "       weekday_4  weekday_5  weekday_6  \n",
      "32621        1.0        0.0        0.0  \n",
      "17976        0.0        0.0        1.0  \n",
      "7760         0.0        0.0        0.0  \n",
      "11766        0.0        0.0        1.0  \n",
      "3690         0.0        1.0        0.0  \n",
      "\n",
      "[5 rows x 432 columns]\n",
      "------------------------------------------\n",
      "32621    3.81\n",
      "17976    6.60\n",
      "7760     3.91\n",
      "11766    8.20\n",
      "3690     6.69\n",
      "Name: targuet, dtype: float64\n",
      "------------------------------------------\n"
     ]
    }
   ],
   "source": [
    "def split(df):\n",
    "    X_paths = []\n",
    "    for index, row in df.iterrows():\n",
    "        path = f\"{row['Uid']}_{row['Pid']}.jpg\"\n",
    "        X_paths.append(path)\n",
    "    y = df['targuet']\n",
    "    X = df.drop(columns=['Uid', 'Pid', 'targuet', 'timezone_offset', 'Postdate', 'photo_firstdate']) #por ahora borro este ultimp\n",
    "\n",
    "    return X_paths, X.astype(float), y.astype(float)\n",
    "\n",
    "X_train_paths, X_train, y_train = split(train_df)\n",
    "X_val_paths, X_val, y_val = split(val_df)\n",
    "X_test_paths, X_test, y_test = split(test_df)\n",
    "print (f\"Train: {len(X_train_paths)}\")\n",
    "print (f\"Validation: {len(X_val_paths)}\")\n",
    "print (f\"Test: {len(X_test_paths)}\")\n",
    "print(\"------------------------------------------\")\n",
    "print(X_train.head())\n",
    "print(\"------------------------------------------\")\n",
    "print(y_train.head())\n",
    "print(\"------------------------------------------\")"
   ]
  },
  {
   "cell_type": "code",
   "execution_count": 6,
   "metadata": {},
   "outputs": [
    {
     "name": "stdout",
     "output_type": "stream",
     "text": [
      "['27637@N5_194431.jpg', '24607@N38_177833.jpg', '23274@N34_165400.jpg', '21281@N88_170582.jpg', '22939@N19_159735.jpg']\n",
      "32621    3.81\n",
      "17976    6.60\n",
      "7760     3.91\n",
      "11766    8.20\n",
      "3690     6.69\n",
      "Name: targuet, dtype: float64\n"
     ]
    }
   ],
   "source": [
    "print(X_train_paths[:5])\n",
    "print(y_train[:5])"
   ]
  },
  {
   "cell_type": "code",
   "execution_count": 7,
   "metadata": {},
   "outputs": [],
   "source": [
    "#save the data\n",
    "X_train.to_csv(\"../X_train.csv\", index=False)\n",
    "X_val.to_csv(\"../X_val.csv\", index=False)\n",
    "X_test.to_csv(\"../X_test.csv\", index=False)\n",
    "\n",
    "y_train.to_csv(\"../y_train.csv\", index=False)\n",
    "y_val.to_csv(\"../y_val.csv\", index=False)\n",
    "y_test.to_csv(\"../y_test.csv\", index=False)\n",
    "\n",
    "#save the list as a csv\n",
    "pd.DataFrame(X_train_paths).to_csv(\"../X_train_paths.csv\", index=False)\n",
    "pd.DataFrame(X_val_paths).to_csv(\"../X_val_paths.csv\", index=False)\n",
    "pd.DataFrame(X_test_paths).to_csv(\"../X_test_paths.csv\", index=False)\n",
    "\n"
   ]
  }
 ],
 "metadata": {
  "kernelspec": {
   "display_name": "ML",
   "language": "python",
   "name": "python3"
  },
  "language_info": {
   "codemirror_mode": {
    "name": "ipython",
    "version": 3
   },
   "file_extension": ".py",
   "mimetype": "text/x-python",
   "name": "python",
   "nbconvert_exporter": "python",
   "pygments_lexer": "ipython3",
   "version": "3.12.2"
  }
 },
 "nbformat": 4,
 "nbformat_minor": 2
}
