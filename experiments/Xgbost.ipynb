{
 "cells": [
  {
   "cell_type": "code",
   "execution_count": 8,
   "metadata": {},
   "outputs": [
    {
     "name": "stdout",
     "output_type": "stream",
     "text": [
      "PyTorch version: 2.5.1\n",
      "CUDA available: False\n",
      "CUDA version: None\n"
     ]
    }
   ],
   "source": [
    "import torch\n",
    "import torch.nn as nn\n",
    "import torch.optim as optim\n",
    "import clip\n",
    "from PIL import Image\n",
    "import matplotlib.pyplot as plt\n",
    "import torch.nn.functional as F\n",
    "import pandas as pd\n",
    "import pickle as pkl\n",
    "import numpy as np \n",
    "import xgboost as xgb\n",
    "\n",
    "print(f\"PyTorch version: {torch.__version__}\")\n",
    "print(f\"CUDA available: {torch.cuda.is_available()}\")\n",
    "print(f\"CUDA version: {torch.version.cuda}\")"
   ]
  },
  {
   "cell_type": "code",
   "execution_count": 30,
   "metadata": {},
   "outputs": [
    {
     "name": "stdout",
     "output_type": "stream",
     "text": [
      "(18303, 6903)\n",
      "(18303, 512)\n"
     ]
    }
   ],
   "source": [
    "X_tabular_train = pd.read_csv(\"../data/preprocessed/train/X_train_tabular_add.csv\").astype(np.float32).to_numpy()\n",
    "y_train = pd.read_csv(\"../data/preprocessed/train/Y_train.csv\").astype(np.float32)\n",
    "X_images_train = np.array(pkl.load(open(\"../data/preprocessed/train/train_clip_vectors.pkl\", \"rb\"))).squeeze(1)\n",
    "X_tabular_test = pd.read_csv(\"../data/preprocessed/test/X_test_tabular_add.csv\").astype(np.float32)\n",
    "y_test = pd.read_csv(\"../data/preprocessed/test/Y_test.csv\").astype(np.float32)\n",
    "X_images_test = np.array(pkl.load(open(\"../data/preprocessed/test/test_clip_vectors.pkl\", \"rb\"))).squeeze(1)\n",
    "\n",
    "print(X_tabular_train.shape)\n",
    "print(X_images_train.shape)\n",
    "\n",
    "X_train = np.concatenate((X_tabular_train, X_images_train), axis=1)\n",
    "X_test = np.concatenate((X_tabular_test, X_images_test), axis=1)\n",
    "\n",
    "\n"
   ]
  },
  {
   "cell_type": "code",
   "execution_count": 10,
   "metadata": {},
   "outputs": [],
   "source": [
    "class XgBoost(nn.Module):\n",
    "    def __init__(self, n_features):\n",
    "        super(XgBoost, self).__init__()\n",
    "        self.xgb = xgb.XGBRegressor(n_estimators=100, max_depth=6, learning_rate=0.1, objective='reg:squarederror')\n",
    "    \n",
    "    def forward(self, x):\n",
    "        return self.xgb.predict(x)\n",
    "    def fit(self, X, y):\n",
    "        self.xgb.fit(X, y)\n",
    "        "
   ]
  },
  {
   "cell_type": "code",
   "execution_count": 31,
   "metadata": {},
   "outputs": [
    {
     "data": {
      "text/plain": [
       "[<matplotlib.lines.Line2D at 0x30568f020>]"
      ]
     },
     "execution_count": 31,
     "metadata": {},
     "output_type": "execute_result"
    },
    {
     "data": {
      "image/png": "[encoded data removed]",
      "text/plain": [
       "<Figure size 640x480 with 1 Axes>"
      ]
     },
     "metadata": {},
     "output_type": "display_data"
    }
   ],
   "source": [
    "model = XgBoost(n_features=X_tabular_train.shape[1])\n",
    "\n",
    "model.fit(X_train, y_train)\n",
    "y_pred = model.forward(X_test)\n",
    "plt.plot(y_test, y_pred, 'o')"
   ]
  }
 ],
 "metadata": {
  "kernelspec": {
   "display_name": "ML",
   "language": "python",
   "name": "python3"
  },
  "language_info": {
   "codemirror_mode": {
    "name": "ipython",
    "version": 3
   },
   "file_extension": ".py",
   "mimetype": "text/x-python",
   "name": "python",
   "nbconvert_exporter": "python",
   "pygments_lexer": "ipython3",
   "version": "3.12.2"
  }
 },
 "nbformat": 4,
 "nbformat_minor": 2
}
